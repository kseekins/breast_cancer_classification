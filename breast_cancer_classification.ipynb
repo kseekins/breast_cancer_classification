{
 "cells": [
  {
   "cell_type": "code",
   "execution_count": null,
   "id": "adedd4eb-8283-457c-8521-ae967215d704",
   "metadata": {},
   "outputs": [],
   "source": [
    "# breast_cancer_classification.py\n",
    "# 🧬 Breast Cancer Classification (UCI Wisconsin Diagnostic)\n",
    "# Goal: Predict benign vs malignant from public UCI dataset.\n",
    "# Falls back to sklearn's bundled dataset if the UCI URL isn't reachable.\n",
    "\n",
    "import pandas as pd\n",
    "import numpy as np\n",
    "import matplotlib.pyplot as plt\n",
    "\n",
    "from sklearn.model_selection import train_test_split\n",
    "from sklearn.preprocessing import StandardScaler\n",
    "from sklearn.linear_model import LogisticRegression\n",
    "from sklearn.decomposition import PCA\n",
    "from sklearn.metrics import classification_report, ConfusionMatrixDisplay\n",
    "\n",
    "RANDOM_STATE = 100"
   ]
  },
  {
   "cell_type": "code",
   "execution_count": null,
   "id": "fc0028eb-740a-48f5-aaf6-e3aa79b812eb",
   "metadata": {},
   "outputs": [],
   "source": [
    "def load_uci_or_fallback():\n",
    "    \"\"\"Load UCI breast cancer CSV; if not available, fall back to sklearn dataset.\"\"\"\n",
    "    url = \"https://archive.ics.uci.edu/ml/machine-learning-databases/breast-cancer-wisconsin/wdbc.data\"\n",
    "    columns = [\"ID\", \"Diagnosis\"] + [f\"feature_{i}\" for i in range(1, 31)]\n",
    "    try:\n",
    "        df = pd.read_csv(url, header=None, names=columns)\n",
    "        df = df.drop(columns=[\"ID\"])\n",
    "        source = \"UCI CSV\"\n",
    "    except Exception:\n",
    "        from sklearn.datasets import load_breast_cancer\n",
    "        data = load_breast_cancer(as_frame=True)\n",
    "        df = data.frame.copy()\n",
    "        # Align schema: use a \"Diagnosis\" column as M/B like UCI\n",
    "        df = df.rename(columns={\"target\": \"Diagnosis\"})\n",
    "        # sklearn: target 0=malignant, 1=benign\n",
    "        df[\"Diagnosis\"] = df[\"Diagnosis\"].map({0: \"M\", 1: \"B\"})\n",
    "        source = \"sklearn fallback\"\n",
    "    return df, source"
   ]
  },
  {
   "cell_type": "code",
   "execution_count": null,
   "id": "7846a1cb-adc4-49b4-b1e8-bf149461871e",
   "metadata": {},
   "outputs": [],
   "source": [
    "# 1) Load data\n",
    "df, source = load_uci_or_fallback()\n",
    "print(\"Data source:\", source)\n",
    "print(df.head())\n",
    "print(\"\\nDiagnosis counts:\\n\", df[\"Diagnosis\"].value_counts())"
   ]
  },
  {
   "cell_type": "code",
   "execution_count": null,
   "id": "1bc41da6-1ed1-44f9-a41d-e1bb094db212",
   "metadata": {},
   "outputs": [],
   "source": [
    "# 2) Preprocessing: encode target and scale features\n",
    "y = (df[\"Diagnosis\"] == \"M\").astype(int)   # M->1, B->0\n",
    "X = df.drop(columns=[\"Diagnosis\"])\n",
    "\n",
    "X_train, X_test, y_train, y_test = train_test_split(\n",
    "    X, y, stratify=y, random_state=RANDOM_STATE, test_size=0.2\n",
    ")\n",
    "\n",
    "scaler = StandardScaler().fit(X_train)\n",
    "X_train_s = scaler.transform(X_train)\n",
    "X_test_s  = scaler.transform(X_test)\n"
   ]
  },
  {
   "cell_type": "code",
   "execution_count": null,
   "id": "568cb869-e8a8-4f70-bf1d-d557aaead12f",
   "metadata": {},
   "outputs": [],
   "source": [
    "# 3) Logistic Regression (no PCA)\n",
    "lr = LogisticRegression(max_iter=5000, random_state=RANDOM_STATE)\n",
    "lr.fit(X_train_s, y_train)\n",
    "print(\"\\n=== Logistic Regression (No PCA) ===\")\n",
    "print(\"Train accuracy:\", lr.score(X_train_s, y_train))\n",
    "print(\"Test  accuracy:\", lr.score(X_test_s, y_test))\n",
    "print(\"\\nClassification report (no PCA):\\n\",\n",
    "      classification_report(y_test, lr.predict(X_test_s),\n",
    "                            target_names=[\"Benign (0)\",\"Malignant (1)\"]))\n",
    "\n",
    "ConfusionMatrixDisplay.from_estimator(lr, X_test_s, y_test)\n",
    "plt.title(\"Confusion Matrix (Logistic Regression, no PCA)\")\n",
    "plt.show()"
   ]
  },
  {
   "cell_type": "code",
   "execution_count": null,
   "id": "a965fbc5-2f8a-4e16-9ff5-7256f929f3ad",
   "metadata": {},
   "outputs": [],
   "source": []
  }
 ],
 "metadata": {
  "kernelspec": {
   "display_name": "Python 3 (ipykernel)",
   "language": "python",
   "name": "python3"
  },
  "language_info": {
   "codemirror_mode": {
    "name": "ipython",
    "version": 3
   },
   "file_extension": ".py",
   "mimetype": "text/x-python",
   "name": "python",
   "nbconvert_exporter": "python",
   "pygments_lexer": "ipython3",
   "version": "3.13.5"
  }
 },
 "nbformat": 4,
 "nbformat_minor": 5
}
